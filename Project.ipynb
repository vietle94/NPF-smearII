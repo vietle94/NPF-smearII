{
 "cells": [
  {
   "cell_type": "markdown",
   "metadata": {},
   "source": [
    "# Table of contents"
   ]
  },
  {
   "cell_type": "markdown",
   "metadata": {},
   "source": [
    "1. [Get data](#Get-data)\n",
    "2. [Check data](#Check-data)\n",
    "3. [Load data](#Load-data)\n",
    "4. [Plot](#Plot)"
   ]
  },
  {
   "cell_type": "markdown",
   "metadata": {},
   "source": [
    "# Import os library to run get data part"
   ]
  },
  {
   "cell_type": "code",
   "execution_count": 1,
   "metadata": {},
   "outputs": [],
   "source": [
    "import os"
   ]
  },
  {
   "cell_type": "markdown",
   "metadata": {},
   "source": [
    "# Get data\n",
    "<div class=\"alert alert-block alert-danger\"> <b> I created some scripts to get data from the server and parse them correctly. They will be downloaded into your machine, so you don't need to run these chunk again in the future.</b> This is just to make sure that we are analyzing on the same data and tutor can check them easily "
   ]
  },
  {
   "cell_type": "markdown",
   "metadata": {},
   "source": [
    "Check current working directory, make sure this directory is where you want to work in. I will create a subdirectory called \"data\" and download all csv files in there"
   ]
  },
  {
   "cell_type": "code",
   "execution_count": 2,
   "metadata": {},
   "outputs": [
    {
     "data": {
      "text/plain": [
       "'C:\\\\Users\\\\VIET\\\\Desktop\\\\Python\\\\NPF-smearII'"
      ]
     },
     "execution_count": 2,
     "metadata": {},
     "output_type": "execute_result"
    }
   ],
   "source": [
    "os.getcwd()"
   ]
  },
  {
   "cell_type": "markdown",
   "metadata": {},
   "source": [
    "Download all data and put in a subdirectory called 'data'. A success run will return value 0"
   ]
  },
  {
   "cell_type": "code",
   "execution_count": 3,
   "metadata": {
    "scrolled": true
   },
   "outputs": [
    {
     "data": {
      "text/plain": [
       "0"
      ]
     },
     "execution_count": 3,
     "metadata": {},
     "output_type": "execute_result"
    }
   ],
   "source": [
    "os.system('python download_data.py') # exploit multi-threading for IO"
   ]
  },
  {
   "cell_type": "markdown",
   "metadata": {},
   "source": [
    "Combine all data in to a new csv file called fulldata.csv. A success run will return value 0"
   ]
  },
  {
   "cell_type": "code",
   "execution_count": 4,
   "metadata": {},
   "outputs": [
    {
     "data": {
      "text/plain": [
       "0"
      ]
     },
     "execution_count": 4,
     "metadata": {},
     "output_type": "execute_result"
    }
   ],
   "source": [
    "os.system('python parse_data.py') # exploit multi-processing CPU to parse each file on each CPU"
   ]
  },
  {
   "cell_type": "markdown",
   "metadata": {},
   "source": [
    "******"
   ]
  },
  {
   "cell_type": "markdown",
   "metadata": {},
   "source": [
    "<div class=\"alert alert-block alert-success\"> <b>START FROM HERE IF YOU ALREADY HAVE THE DATA <b>"
   ]
  },
  {
   "cell_type": "markdown",
   "metadata": {},
   "source": [
    "# Load libraries"
   ]
  },
  {
   "cell_type": "code",
   "execution_count": 1,
   "metadata": {},
   "outputs": [],
   "source": [
    "import pandas as pd\n",
    "import numpy as np\n",
    "import matplotlib.pyplot as plt\n",
    "import matplotlib.dates\n",
    "import seaborn as sns"
   ]
  },
  {
   "cell_type": "markdown",
   "metadata": {},
   "source": [
    "# Load data"
   ]
  },
  {
   "cell_type": "code",
   "execution_count": 2,
   "metadata": {},
   "outputs": [],
   "source": [
    "df = pd.read_csv('fulldata.csv', parse_dates = ['Time'])\n",
    "df.columns = [x if x == \"Time\" else x[9:] for x in df.columns] # Remove unnecessary part in column names"
   ]
  },
  {
   "cell_type": "code",
   "execution_count": 3,
   "metadata": {},
   "outputs": [],
   "source": [
    "event = pd.read_csv('Event_classification_2004-2014.csv')\n",
    "event['Time'] = pd.to_datetime(event.Date, format = \"%d-%b-%Y\")\n",
    "event.drop('Date', axis = 1, inplace = True)\n",
    "\n",
    "condense = pd.read_csv('CS_2004_2014.csv')\n",
    "condense['Time'] = pd.to_datetime(condense.times, format = \"%d-%b-%Y %H:%M:%S\")\n",
    "condense.drop('times', axis = 1, inplace = True)"
   ]
  },
  {
   "cell_type": "markdown",
   "metadata": {},
   "source": [
    "### Get 2008 & 2009"
   ]
  },
  {
   "cell_type": "code",
   "execution_count": 4,
   "metadata": {
    "scrolled": true
   },
   "outputs": [],
   "source": [
    "condense = condense[(condense.Time >= pd.Timestamp(2008,1,1)) & (condense.Time < pd.Timestamp(2010,1,1))]\n",
    "event = event[(event.Time >= pd.Timestamp(2008,1,1)) & (event.Time < pd.Timestamp(2010,1,1))]\n",
    "condense.reset_index(drop = True, inplace = True)\n",
    "event.reset_index(drop = True, inplace = True)"
   ]
  },
  {
   "cell_type": "markdown",
   "metadata": {},
   "source": [
    "# Check data"
   ]
  },
  {
   "cell_type": "markdown",
   "metadata": {},
   "source": [
    "## Parameters data"
   ]
  },
  {
   "cell_type": "code",
   "execution_count": 5,
   "metadata": {
    "scrolled": true
   },
   "outputs": [
    {
     "data": {
      "text/html": [
       "<div>\n",
       "<style scoped>\n",
       "    .dataframe tbody tr th:only-of-type {\n",
       "        vertical-align: middle;\n",
       "    }\n",
       "\n",
       "    .dataframe tbody tr th {\n",
       "        vertical-align: top;\n",
       "    }\n",
       "\n",
       "    .dataframe thead th {\n",
       "        text-align: right;\n",
       "    }\n",
       "</style>\n",
       "<table border=\"1\" class=\"dataframe\">\n",
       "  <thead>\n",
       "    <tr style=\"text-align: right;\">\n",
       "      <th></th>\n",
       "      <th>Time</th>\n",
       "      <th>NOx168</th>\n",
       "      <th>O3168</th>\n",
       "      <th>RHIRGA168</th>\n",
       "      <th>SO2168</th>\n",
       "      <th>T168</th>\n",
       "      <th>UV_A</th>\n",
       "      <th>UV_B</th>\n",
       "      <th>WSU168</th>\n",
       "    </tr>\n",
       "  </thead>\n",
       "  <tbody>\n",
       "    <tr>\n",
       "      <td>0</td>\n",
       "      <td>2008-01-01 00:00:00</td>\n",
       "      <td>NaN</td>\n",
       "      <td>NaN</td>\n",
       "      <td>NaN</td>\n",
       "      <td>NaN</td>\n",
       "      <td>-1.79</td>\n",
       "      <td>-0.001</td>\n",
       "      <td>-0.0003</td>\n",
       "      <td>3.66</td>\n",
       "    </tr>\n",
       "    <tr>\n",
       "      <td>1</td>\n",
       "      <td>2008-01-01 00:01:00</td>\n",
       "      <td>NaN</td>\n",
       "      <td>NaN</td>\n",
       "      <td>NaN</td>\n",
       "      <td>NaN</td>\n",
       "      <td>-1.81</td>\n",
       "      <td>0.001</td>\n",
       "      <td>0.0002</td>\n",
       "      <td>2.85</td>\n",
       "    </tr>\n",
       "    <tr>\n",
       "      <td>2</td>\n",
       "      <td>2008-01-01 00:02:00</td>\n",
       "      <td>NaN</td>\n",
       "      <td>NaN</td>\n",
       "      <td>NaN</td>\n",
       "      <td>NaN</td>\n",
       "      <td>-1.80</td>\n",
       "      <td>-0.001</td>\n",
       "      <td>0.0002</td>\n",
       "      <td>2.07</td>\n",
       "    </tr>\n",
       "    <tr>\n",
       "      <td>3</td>\n",
       "      <td>2008-01-01 00:03:00</td>\n",
       "      <td>0.57</td>\n",
       "      <td>26.57</td>\n",
       "      <td>85.59</td>\n",
       "      <td>-0.02</td>\n",
       "      <td>-1.84</td>\n",
       "      <td>0.003</td>\n",
       "      <td>0.0002</td>\n",
       "      <td>2.48</td>\n",
       "    </tr>\n",
       "    <tr>\n",
       "      <td>4</td>\n",
       "      <td>2008-01-01 00:04:00</td>\n",
       "      <td>NaN</td>\n",
       "      <td>NaN</td>\n",
       "      <td>NaN</td>\n",
       "      <td>NaN</td>\n",
       "      <td>-1.84</td>\n",
       "      <td>0.003</td>\n",
       "      <td>0.0006</td>\n",
       "      <td>4.63</td>\n",
       "    </tr>\n",
       "  </tbody>\n",
       "</table>\n",
       "</div>"
      ],
      "text/plain": [
       "                 Time  NOx168  O3168  RHIRGA168  SO2168  T168   UV_A    UV_B  \\\n",
       "0 2008-01-01 00:00:00     NaN    NaN        NaN     NaN -1.79 -0.001 -0.0003   \n",
       "1 2008-01-01 00:01:00     NaN    NaN        NaN     NaN -1.81  0.001  0.0002   \n",
       "2 2008-01-01 00:02:00     NaN    NaN        NaN     NaN -1.80 -0.001  0.0002   \n",
       "3 2008-01-01 00:03:00    0.57  26.57      85.59   -0.02 -1.84  0.003  0.0002   \n",
       "4 2008-01-01 00:04:00     NaN    NaN        NaN     NaN -1.84  0.003  0.0006   \n",
       "\n",
       "   WSU168  \n",
       "0    3.66  \n",
       "1    2.85  \n",
       "2    2.07  \n",
       "3    2.48  \n",
       "4    4.63  "
      ]
     },
     "execution_count": 5,
     "metadata": {},
     "output_type": "execute_result"
    }
   ],
   "source": [
    "df.head()"
   ]
  },
  {
   "cell_type": "markdown",
   "metadata": {},
   "source": [
    "#### Overall statistics"
   ]
  },
  {
   "cell_type": "code",
   "execution_count": 6,
   "metadata": {
    "scrolled": true
   },
   "outputs": [
    {
     "data": {
      "text/html": [
       "<div>\n",
       "<style scoped>\n",
       "    .dataframe tbody tr th:only-of-type {\n",
       "        vertical-align: middle;\n",
       "    }\n",
       "\n",
       "    .dataframe tbody tr th {\n",
       "        vertical-align: top;\n",
       "    }\n",
       "\n",
       "    .dataframe thead th {\n",
       "        text-align: right;\n",
       "    }\n",
       "</style>\n",
       "<table border=\"1\" class=\"dataframe\">\n",
       "  <thead>\n",
       "    <tr style=\"text-align: right;\">\n",
       "      <th></th>\n",
       "      <th>NOx168</th>\n",
       "      <th>O3168</th>\n",
       "      <th>RHIRGA168</th>\n",
       "      <th>SO2168</th>\n",
       "      <th>T168</th>\n",
       "      <th>UV_A</th>\n",
       "      <th>UV_B</th>\n",
       "      <th>WSU168</th>\n",
       "    </tr>\n",
       "  </thead>\n",
       "  <tbody>\n",
       "    <tr>\n",
       "      <td>count</td>\n",
       "      <td>171339.000000</td>\n",
       "      <td>171201.000000</td>\n",
       "      <td>164762.000000</td>\n",
       "      <td>171681.000000</td>\n",
       "      <td>1.039150e+06</td>\n",
       "      <td>1.045706e+06</td>\n",
       "      <td>1.045704e+06</td>\n",
       "      <td>1.039118e+06</td>\n",
       "    </tr>\n",
       "    <tr>\n",
       "      <td>mean</td>\n",
       "      <td>1.235275</td>\n",
       "      <td>29.356992</td>\n",
       "      <td>76.981689</td>\n",
       "      <td>0.188140</td>\n",
       "      <td>4.489560e+00</td>\n",
       "      <td>5.631473e+00</td>\n",
       "      <td>2.476934e-01</td>\n",
       "      <td>2.038419e+00</td>\n",
       "    </tr>\n",
       "    <tr>\n",
       "      <td>std</td>\n",
       "      <td>1.593818</td>\n",
       "      <td>10.731424</td>\n",
       "      <td>18.947285</td>\n",
       "      <td>0.381855</td>\n",
       "      <td>8.450221e+00</td>\n",
       "      <td>9.763745e+00</td>\n",
       "      <td>4.978083e-01</td>\n",
       "      <td>1.157705e+00</td>\n",
       "    </tr>\n",
       "    <tr>\n",
       "      <td>min</td>\n",
       "      <td>-0.220000</td>\n",
       "      <td>-0.930000</td>\n",
       "      <td>16.330000</td>\n",
       "      <td>-0.220000</td>\n",
       "      <td>-2.005000e+01</td>\n",
       "      <td>-5.600000e-02</td>\n",
       "      <td>-6.100000e-03</td>\n",
       "      <td>4.000000e-02</td>\n",
       "    </tr>\n",
       "    <tr>\n",
       "      <td>25%</td>\n",
       "      <td>0.290000</td>\n",
       "      <td>21.730000</td>\n",
       "      <td>64.870000</td>\n",
       "      <td>0.030000</td>\n",
       "      <td>-1.550000e+00</td>\n",
       "      <td>-1.000000e-03</td>\n",
       "      <td>0.000000e+00</td>\n",
       "      <td>1.210000e+00</td>\n",
       "    </tr>\n",
       "    <tr>\n",
       "      <td>50%</td>\n",
       "      <td>0.670000</td>\n",
       "      <td>28.810000</td>\n",
       "      <td>84.560000</td>\n",
       "      <td>0.090000</td>\n",
       "      <td>3.650000e+00</td>\n",
       "      <td>3.760000e-01</td>\n",
       "      <td>6.100000e-03</td>\n",
       "      <td>1.800000e+00</td>\n",
       "    </tr>\n",
       "    <tr>\n",
       "      <td>75%</td>\n",
       "      <td>1.610000</td>\n",
       "      <td>36.170000</td>\n",
       "      <td>92.070000</td>\n",
       "      <td>0.210000</td>\n",
       "      <td>1.148000e+01</td>\n",
       "      <td>7.101000e+00</td>\n",
       "      <td>2.215000e-01</td>\n",
       "      <td>2.620000e+00</td>\n",
       "    </tr>\n",
       "    <tr>\n",
       "      <td>max</td>\n",
       "      <td>57.450000</td>\n",
       "      <td>82.590000</td>\n",
       "      <td>105.650000</td>\n",
       "      <td>36.420000</td>\n",
       "      <td>2.789000e+01</td>\n",
       "      <td>5.921200e+01</td>\n",
       "      <td>3.216400e+00</td>\n",
       "      <td>1.834000e+01</td>\n",
       "    </tr>\n",
       "  </tbody>\n",
       "</table>\n",
       "</div>"
      ],
      "text/plain": [
       "              NOx168          O3168      RHIRGA168         SO2168  \\\n",
       "count  171339.000000  171201.000000  164762.000000  171681.000000   \n",
       "mean        1.235275      29.356992      76.981689       0.188140   \n",
       "std         1.593818      10.731424      18.947285       0.381855   \n",
       "min        -0.220000      -0.930000      16.330000      -0.220000   \n",
       "25%         0.290000      21.730000      64.870000       0.030000   \n",
       "50%         0.670000      28.810000      84.560000       0.090000   \n",
       "75%         1.610000      36.170000      92.070000       0.210000   \n",
       "max        57.450000      82.590000     105.650000      36.420000   \n",
       "\n",
       "               T168          UV_A          UV_B        WSU168  \n",
       "count  1.039150e+06  1.045706e+06  1.045704e+06  1.039118e+06  \n",
       "mean   4.489560e+00  5.631473e+00  2.476934e-01  2.038419e+00  \n",
       "std    8.450221e+00  9.763745e+00  4.978083e-01  1.157705e+00  \n",
       "min   -2.005000e+01 -5.600000e-02 -6.100000e-03  4.000000e-02  \n",
       "25%   -1.550000e+00 -1.000000e-03  0.000000e+00  1.210000e+00  \n",
       "50%    3.650000e+00  3.760000e-01  6.100000e-03  1.800000e+00  \n",
       "75%    1.148000e+01  7.101000e+00  2.215000e-01  2.620000e+00  \n",
       "max    2.789000e+01  5.921200e+01  3.216400e+00  1.834000e+01  "
      ]
     },
     "execution_count": 6,
     "metadata": {},
     "output_type": "execute_result"
    }
   ],
   "source": [
    "df.describe()"
   ]
  },
  {
   "cell_type": "markdown",
   "metadata": {},
   "source": [
    "#### Check NA values"
   ]
  },
  {
   "cell_type": "code",
   "execution_count": 7,
   "metadata": {},
   "outputs": [
    {
     "data": {
      "text/plain": [
       "Time              0\n",
       "NOx168       881301\n",
       "O3168        881439\n",
       "RHIRGA168    887878\n",
       "SO2168       880959\n",
       "T168          13490\n",
       "UV_A           6934\n",
       "UV_B           6936\n",
       "WSU168        13522\n",
       "dtype: int64"
      ]
     },
     "execution_count": 7,
     "metadata": {},
     "output_type": "execute_result"
    }
   ],
   "source": [
    "df.isna().sum()"
   ]
  },
  {
   "cell_type": "markdown",
   "metadata": {},
   "source": [
    "## Event data"
   ]
  },
  {
   "cell_type": "code",
   "execution_count": 8,
   "metadata": {},
   "outputs": [
    {
     "data": {
      "text/html": [
       "<div>\n",
       "<style scoped>\n",
       "    .dataframe tbody tr th:only-of-type {\n",
       "        vertical-align: middle;\n",
       "    }\n",
       "\n",
       "    .dataframe tbody tr th {\n",
       "        vertical-align: top;\n",
       "    }\n",
       "\n",
       "    .dataframe thead th {\n",
       "        text-align: right;\n",
       "    }\n",
       "</style>\n",
       "<table border=\"1\" class=\"dataframe\">\n",
       "  <thead>\n",
       "    <tr style=\"text-align: right;\">\n",
       "      <th></th>\n",
       "      <th>Type Ia</th>\n",
       "      <th>Type Ib</th>\n",
       "      <th>Type II</th>\n",
       "      <th>Type Apple</th>\n",
       "      <th>Type Bump</th>\n",
       "      <th>Type Rain</th>\n",
       "      <th>Type Featureless</th>\n",
       "      <th>Nonevent</th>\n",
       "      <th>Undefined</th>\n",
       "      <th>Time</th>\n",
       "    </tr>\n",
       "  </thead>\n",
       "  <tbody>\n",
       "    <tr>\n",
       "      <td>0</td>\n",
       "      <td>0</td>\n",
       "      <td>0</td>\n",
       "      <td>0</td>\n",
       "      <td>0</td>\n",
       "      <td>0</td>\n",
       "      <td>0</td>\n",
       "      <td>0</td>\n",
       "      <td>1</td>\n",
       "      <td>0</td>\n",
       "      <td>2008-01-01</td>\n",
       "    </tr>\n",
       "    <tr>\n",
       "      <td>1</td>\n",
       "      <td>0</td>\n",
       "      <td>0</td>\n",
       "      <td>0</td>\n",
       "      <td>0</td>\n",
       "      <td>0</td>\n",
       "      <td>0</td>\n",
       "      <td>0</td>\n",
       "      <td>0</td>\n",
       "      <td>1</td>\n",
       "      <td>2008-01-02</td>\n",
       "    </tr>\n",
       "    <tr>\n",
       "      <td>2</td>\n",
       "      <td>0</td>\n",
       "      <td>0</td>\n",
       "      <td>0</td>\n",
       "      <td>0</td>\n",
       "      <td>0</td>\n",
       "      <td>0</td>\n",
       "      <td>0</td>\n",
       "      <td>0</td>\n",
       "      <td>0</td>\n",
       "      <td>2008-01-03</td>\n",
       "    </tr>\n",
       "    <tr>\n",
       "      <td>3</td>\n",
       "      <td>0</td>\n",
       "      <td>0</td>\n",
       "      <td>0</td>\n",
       "      <td>0</td>\n",
       "      <td>0</td>\n",
       "      <td>0</td>\n",
       "      <td>0</td>\n",
       "      <td>0</td>\n",
       "      <td>1</td>\n",
       "      <td>2008-01-04</td>\n",
       "    </tr>\n",
       "    <tr>\n",
       "      <td>4</td>\n",
       "      <td>0</td>\n",
       "      <td>0</td>\n",
       "      <td>0</td>\n",
       "      <td>0</td>\n",
       "      <td>0</td>\n",
       "      <td>0</td>\n",
       "      <td>0</td>\n",
       "      <td>1</td>\n",
       "      <td>0</td>\n",
       "      <td>2008-01-05</td>\n",
       "    </tr>\n",
       "  </tbody>\n",
       "</table>\n",
       "</div>"
      ],
      "text/plain": [
       "   Type Ia  Type Ib  Type II  Type Apple  Type Bump  Type Rain  \\\n",
       "0        0        0        0           0          0          0   \n",
       "1        0        0        0           0          0          0   \n",
       "2        0        0        0           0          0          0   \n",
       "3        0        0        0           0          0          0   \n",
       "4        0        0        0           0          0          0   \n",
       "\n",
       "   Type Featureless  Nonevent  Undefined       Time  \n",
       "0                 0         1          0 2008-01-01  \n",
       "1                 0         0          1 2008-01-02  \n",
       "2                 0         0          0 2008-01-03  \n",
       "3                 0         0          1 2008-01-04  \n",
       "4                 0         1          0 2008-01-05  "
      ]
     },
     "execution_count": 8,
     "metadata": {},
     "output_type": "execute_result"
    }
   ],
   "source": [
    "event.head()"
   ]
  },
  {
   "cell_type": "code",
   "execution_count": 9,
   "metadata": {},
   "outputs": [
    {
     "data": {
      "text/html": [
       "<div>\n",
       "<style scoped>\n",
       "    .dataframe tbody tr th:only-of-type {\n",
       "        vertical-align: middle;\n",
       "    }\n",
       "\n",
       "    .dataframe tbody tr th {\n",
       "        vertical-align: top;\n",
       "    }\n",
       "\n",
       "    .dataframe thead th {\n",
       "        text-align: right;\n",
       "    }\n",
       "</style>\n",
       "<table border=\"1\" class=\"dataframe\">\n",
       "  <thead>\n",
       "    <tr style=\"text-align: right;\">\n",
       "      <th></th>\n",
       "      <th>Type Ia</th>\n",
       "      <th>Type Ib</th>\n",
       "      <th>Type II</th>\n",
       "      <th>Type Apple</th>\n",
       "      <th>Type Bump</th>\n",
       "      <th>Type Rain</th>\n",
       "      <th>Type Featureless</th>\n",
       "      <th>Nonevent</th>\n",
       "      <th>Undefined</th>\n",
       "    </tr>\n",
       "  </thead>\n",
       "  <tbody>\n",
       "    <tr>\n",
       "      <td>count</td>\n",
       "      <td>731.000000</td>\n",
       "      <td>731.000000</td>\n",
       "      <td>731.000000</td>\n",
       "      <td>731.0</td>\n",
       "      <td>731.0</td>\n",
       "      <td>731.0</td>\n",
       "      <td>731.0</td>\n",
       "      <td>731.000000</td>\n",
       "      <td>731.000000</td>\n",
       "    </tr>\n",
       "    <tr>\n",
       "      <td>mean</td>\n",
       "      <td>0.004104</td>\n",
       "      <td>0.047880</td>\n",
       "      <td>0.151847</td>\n",
       "      <td>0.0</td>\n",
       "      <td>0.0</td>\n",
       "      <td>0.0</td>\n",
       "      <td>0.0</td>\n",
       "      <td>0.313269</td>\n",
       "      <td>0.454172</td>\n",
       "    </tr>\n",
       "    <tr>\n",
       "      <td>std</td>\n",
       "      <td>0.063974</td>\n",
       "      <td>0.213658</td>\n",
       "      <td>0.359118</td>\n",
       "      <td>0.0</td>\n",
       "      <td>0.0</td>\n",
       "      <td>0.0</td>\n",
       "      <td>0.0</td>\n",
       "      <td>0.464141</td>\n",
       "      <td>0.498236</td>\n",
       "    </tr>\n",
       "    <tr>\n",
       "      <td>min</td>\n",
       "      <td>0.000000</td>\n",
       "      <td>0.000000</td>\n",
       "      <td>0.000000</td>\n",
       "      <td>0.0</td>\n",
       "      <td>0.0</td>\n",
       "      <td>0.0</td>\n",
       "      <td>0.0</td>\n",
       "      <td>0.000000</td>\n",
       "      <td>0.000000</td>\n",
       "    </tr>\n",
       "    <tr>\n",
       "      <td>25%</td>\n",
       "      <td>0.000000</td>\n",
       "      <td>0.000000</td>\n",
       "      <td>0.000000</td>\n",
       "      <td>0.0</td>\n",
       "      <td>0.0</td>\n",
       "      <td>0.0</td>\n",
       "      <td>0.0</td>\n",
       "      <td>0.000000</td>\n",
       "      <td>0.000000</td>\n",
       "    </tr>\n",
       "    <tr>\n",
       "      <td>50%</td>\n",
       "      <td>0.000000</td>\n",
       "      <td>0.000000</td>\n",
       "      <td>0.000000</td>\n",
       "      <td>0.0</td>\n",
       "      <td>0.0</td>\n",
       "      <td>0.0</td>\n",
       "      <td>0.0</td>\n",
       "      <td>0.000000</td>\n",
       "      <td>0.000000</td>\n",
       "    </tr>\n",
       "    <tr>\n",
       "      <td>75%</td>\n",
       "      <td>0.000000</td>\n",
       "      <td>0.000000</td>\n",
       "      <td>0.000000</td>\n",
       "      <td>0.0</td>\n",
       "      <td>0.0</td>\n",
       "      <td>0.0</td>\n",
       "      <td>0.0</td>\n",
       "      <td>1.000000</td>\n",
       "      <td>1.000000</td>\n",
       "    </tr>\n",
       "    <tr>\n",
       "      <td>max</td>\n",
       "      <td>1.000000</td>\n",
       "      <td>1.000000</td>\n",
       "      <td>1.000000</td>\n",
       "      <td>0.0</td>\n",
       "      <td>0.0</td>\n",
       "      <td>0.0</td>\n",
       "      <td>0.0</td>\n",
       "      <td>1.000000</td>\n",
       "      <td>1.000000</td>\n",
       "    </tr>\n",
       "  </tbody>\n",
       "</table>\n",
       "</div>"
      ],
      "text/plain": [
       "          Type Ia     Type Ib     Type II  Type Apple  Type Bump  Type Rain  \\\n",
       "count  731.000000  731.000000  731.000000       731.0      731.0      731.0   \n",
       "mean     0.004104    0.047880    0.151847         0.0        0.0        0.0   \n",
       "std      0.063974    0.213658    0.359118         0.0        0.0        0.0   \n",
       "min      0.000000    0.000000    0.000000         0.0        0.0        0.0   \n",
       "25%      0.000000    0.000000    0.000000         0.0        0.0        0.0   \n",
       "50%      0.000000    0.000000    0.000000         0.0        0.0        0.0   \n",
       "75%      0.000000    0.000000    0.000000         0.0        0.0        0.0   \n",
       "max      1.000000    1.000000    1.000000         0.0        0.0        0.0   \n",
       "\n",
       "       Type Featureless    Nonevent   Undefined  \n",
       "count             731.0  731.000000  731.000000  \n",
       "mean                0.0    0.313269    0.454172  \n",
       "std                 0.0    0.464141    0.498236  \n",
       "min                 0.0    0.000000    0.000000  \n",
       "25%                 0.0    0.000000    0.000000  \n",
       "50%                 0.0    0.000000    0.000000  \n",
       "75%                 0.0    1.000000    1.000000  \n",
       "max                 0.0    1.000000    1.000000  "
      ]
     },
     "execution_count": 9,
     "metadata": {},
     "output_type": "execute_result"
    }
   ],
   "source": [
    "event.describe()"
   ]
  },
  {
   "cell_type": "markdown",
   "metadata": {},
   "source": [
    "#### Frequency of each event in the period 2008-2009"
   ]
  },
  {
   "cell_type": "code",
   "execution_count": 10,
   "metadata": {},
   "outputs": [
    {
     "data": {
      "text/plain": [
       "Type Ia               3\n",
       "Type Ib              35\n",
       "Type II             111\n",
       "Type Apple            0\n",
       "Type Bump             0\n",
       "Type Rain             0\n",
       "Type Featureless      0\n",
       "Nonevent            229\n",
       "Undefined           332\n",
       "dtype: int64"
      ]
     },
     "execution_count": 10,
     "metadata": {},
     "output_type": "execute_result"
    }
   ],
   "source": [
    "event.sum(axis = 0)"
   ]
  },
  {
   "cell_type": "markdown",
   "metadata": {},
   "source": [
    "#### Check NA values"
   ]
  },
  {
   "cell_type": "code",
   "execution_count": 11,
   "metadata": {
    "scrolled": false
   },
   "outputs": [
    {
     "data": {
      "text/plain": [
       "Type Ia             0\n",
       "Type Ib             0\n",
       "Type II             0\n",
       "Type Apple          0\n",
       "Type Bump           0\n",
       "Type Rain           0\n",
       "Type Featureless    0\n",
       "Nonevent            0\n",
       "Undefined           0\n",
       "Time                0\n",
       "dtype: int64"
      ]
     },
     "execution_count": 11,
     "metadata": {},
     "output_type": "execute_result"
    }
   ],
   "source": [
    "event.isna().sum()"
   ]
  },
  {
   "cell_type": "markdown",
   "metadata": {},
   "source": [
    "#### Let's check whether each event is marked only as 1 and 0 or if there is any hidden value"
   ]
  },
  {
   "cell_type": "code",
   "execution_count": 12,
   "metadata": {
    "scrolled": true
   },
   "outputs": [
    {
     "name": "stdout",
     "output_type": "stream",
     "text": [
      "Type Ia [0 1]\n",
      "Type Ib [0 1]\n",
      "Type II [0 1]\n",
      "Type Apple [0]\n",
      "Type Bump [0]\n",
      "Type Rain [0]\n",
      "Type Featureless [0]\n",
      "Nonevent [1 0]\n",
      "Undefined [0 1]\n"
     ]
    }
   ],
   "source": [
    "for col in event.iloc[:,:-1]:\n",
    "    print(col, event[col].unique())"
   ]
  },
  {
   "cell_type": "markdown",
   "metadata": {},
   "source": [
    "#### Check if each day, there is only one event"
   ]
  },
  {
   "cell_type": "code",
   "execution_count": 13,
   "metadata": {},
   "outputs": [
    {
     "data": {
      "text/plain": [
       "array([1, 0], dtype=int64)"
      ]
     },
     "execution_count": 13,
     "metadata": {},
     "output_type": "execute_result"
    }
   ],
   "source": [
    "event.sum(axis = 1).unique()"
   ]
  },
  {
   "cell_type": "markdown",
   "metadata": {},
   "source": [
    "## Condense"
   ]
  },
  {
   "cell_type": "code",
   "execution_count": 14,
   "metadata": {},
   "outputs": [
    {
     "data": {
      "text/html": [
       "<div>\n",
       "<style scoped>\n",
       "    .dataframe tbody tr th:only-of-type {\n",
       "        vertical-align: middle;\n",
       "    }\n",
       "\n",
       "    .dataframe tbody tr th {\n",
       "        vertical-align: top;\n",
       "    }\n",
       "\n",
       "    .dataframe thead th {\n",
       "        text-align: right;\n",
       "    }\n",
       "</style>\n",
       "<table border=\"1\" class=\"dataframe\">\n",
       "  <thead>\n",
       "    <tr style=\"text-align: right;\">\n",
       "      <th></th>\n",
       "      <th>Condensation_sink</th>\n",
       "      <th>Time</th>\n",
       "    </tr>\n",
       "  </thead>\n",
       "  <tbody>\n",
       "    <tr>\n",
       "      <td>0</td>\n",
       "      <td>0.001787</td>\n",
       "      <td>2008-01-01 00:09:45</td>\n",
       "    </tr>\n",
       "    <tr>\n",
       "      <td>1</td>\n",
       "      <td>0.001710</td>\n",
       "      <td>2008-01-01 00:19:45</td>\n",
       "    </tr>\n",
       "    <tr>\n",
       "      <td>2</td>\n",
       "      <td>0.001514</td>\n",
       "      <td>2008-01-01 00:29:46</td>\n",
       "    </tr>\n",
       "    <tr>\n",
       "      <td>3</td>\n",
       "      <td>0.001527</td>\n",
       "      <td>2008-01-01 00:39:45</td>\n",
       "    </tr>\n",
       "    <tr>\n",
       "      <td>4</td>\n",
       "      <td>0.001554</td>\n",
       "      <td>2008-01-01 00:49:46</td>\n",
       "    </tr>\n",
       "  </tbody>\n",
       "</table>\n",
       "</div>"
      ],
      "text/plain": [
       "   Condensation_sink                Time\n",
       "0           0.001787 2008-01-01 00:09:45\n",
       "1           0.001710 2008-01-01 00:19:45\n",
       "2           0.001514 2008-01-01 00:29:46\n",
       "3           0.001527 2008-01-01 00:39:45\n",
       "4           0.001554 2008-01-01 00:49:46"
      ]
     },
     "execution_count": 14,
     "metadata": {},
     "output_type": "execute_result"
    }
   ],
   "source": [
    "condense.head()"
   ]
  },
  {
   "cell_type": "code",
   "execution_count": 15,
   "metadata": {},
   "outputs": [
    {
     "data": {
      "text/html": [
       "<div>\n",
       "<style scoped>\n",
       "    .dataframe tbody tr th:only-of-type {\n",
       "        vertical-align: middle;\n",
       "    }\n",
       "\n",
       "    .dataframe tbody tr th {\n",
       "        vertical-align: top;\n",
       "    }\n",
       "\n",
       "    .dataframe thead th {\n",
       "        text-align: right;\n",
       "    }\n",
       "</style>\n",
       "<table border=\"1\" class=\"dataframe\">\n",
       "  <thead>\n",
       "    <tr style=\"text-align: right;\">\n",
       "      <th></th>\n",
       "      <th>Condensation_sink</th>\n",
       "    </tr>\n",
       "  </thead>\n",
       "  <tbody>\n",
       "    <tr>\n",
       "      <td>count</td>\n",
       "      <td>102540.000000</td>\n",
       "    </tr>\n",
       "    <tr>\n",
       "      <td>mean</td>\n",
       "      <td>0.003777</td>\n",
       "    </tr>\n",
       "    <tr>\n",
       "      <td>std</td>\n",
       "      <td>0.003240</td>\n",
       "    </tr>\n",
       "    <tr>\n",
       "      <td>min</td>\n",
       "      <td>0.000006</td>\n",
       "    </tr>\n",
       "    <tr>\n",
       "      <td>25%</td>\n",
       "      <td>0.001818</td>\n",
       "    </tr>\n",
       "    <tr>\n",
       "      <td>50%</td>\n",
       "      <td>0.003016</td>\n",
       "    </tr>\n",
       "    <tr>\n",
       "      <td>75%</td>\n",
       "      <td>0.004813</td>\n",
       "    </tr>\n",
       "    <tr>\n",
       "      <td>max</td>\n",
       "      <td>0.325251</td>\n",
       "    </tr>\n",
       "  </tbody>\n",
       "</table>\n",
       "</div>"
      ],
      "text/plain": [
       "       Condensation_sink\n",
       "count      102540.000000\n",
       "mean            0.003777\n",
       "std             0.003240\n",
       "min             0.000006\n",
       "25%             0.001818\n",
       "50%             0.003016\n",
       "75%             0.004813\n",
       "max             0.325251"
      ]
     },
     "execution_count": 15,
     "metadata": {},
     "output_type": "execute_result"
    }
   ],
   "source": [
    "condense.describe()"
   ]
  },
  {
   "cell_type": "code",
   "execution_count": 16,
   "metadata": {},
   "outputs": [
    {
     "data": {
      "text/plain": [
       "Condensation_sink    1158\n",
       "Time                    0\n",
       "dtype: int64"
      ]
     },
     "execution_count": 16,
     "metadata": {},
     "output_type": "execute_result"
    }
   ],
   "source": [
    "condense.isna().sum()"
   ]
  },
  {
   "cell_type": "markdown",
   "metadata": {},
   "source": [
    "# Preprocess"
   ]
  },
  {
   "cell_type": "markdown",
   "metadata": {},
   "source": [
    "### Remove outlier\n",
    "\n",
    "#### Time-series of each parameter"
   ]
  },
  {
   "cell_type": "code",
   "execution_count": 17,
   "metadata": {
    "scrolled": false
   },
   "outputs": [
    {
     "name": "stderr",
     "output_type": "stream",
     "text": [
      "C:\\Users\\VIET\\Anaconda3\\lib\\site-packages\\pandas\\plotting\\_matplotlib\\converter.py:103: FutureWarning: Using an implicitly registered datetime converter for a matplotlib plotting method. The converter was registered by pandas on import. Future versions of pandas will require you to explicitly register matplotlib converters.\n",
      "\n",
      "To register the converters:\n",
      "\t>>> from pandas.plotting import register_matplotlib_converters\n",
      "\t>>> register_matplotlib_converters()\n",
      "  warnings.warn(msg, FutureWarning)\n"
     ]
    },
    {
     "data": {
      "image/png": "[encoded data removed]",
      "text/plain": [
       "<Figure size 1080x2160 with 8 Axes>"
      ]
     },
     "metadata": {
      "needs_background": "light"
     },
     "output_type": "display_data"
    }
   ],
   "source": [
    "fig, axe = plt.subplots(df.shape[1] - 1,1, figsize = (15, 30))\n",
    "axe = axe.flatten()\n",
    "for i in range(1, df.shape[1]):\n",
    "    axe[i-1].scatter(df.Time, df.iloc[:,i])\n",
    "    axe[i-1].set_title(df.columns[i])\n",
    "    axe[i-1].xaxis.set_major_locator(matplotlib.dates.MonthLocator(bymonth=12, bymonthday=1, interval=1, tz=None))\n",
    "    \n",
    "fig.subplots_adjust(left=None, bottom=None, right=None, top=None, wspace=None, hspace=0.5)"
   ]
  },
  {
   "cell_type": "code",
   "execution_count": 18,
   "metadata": {},
   "outputs": [
    {
     "data": {
      "text/plain": [
       "<matplotlib.axes._subplots.AxesSubplot at 0x28db75e72b0>"
      ]
     },
     "execution_count": 18,
     "metadata": {},
     "output_type": "execute_result"
    },
    {
     "data": {
      "image/png": "[encoded data removed]",
      "text/plain": [
       "<Figure size 1080x504 with 1 Axes>"
      ]
     },
     "metadata": {
      "needs_background": "light"
     },
     "output_type": "display_data"
    }
   ],
   "source": [
    "df.boxplot(figsize = (15, 7))"
   ]
  },
  {
   "cell_type": "markdown",
   "metadata": {},
   "source": [
    "<div class=\"alert alert-block alert-info\">\n",
    "    \n",
    "Detecting outlier using boxplot for the raw time-series of two years is controversal because:\n",
    "    \n",
    "- Time-series are usually not stationary\n",
    "    \n",
    "- If the values only peak during a short time of every year (for example during the last week of every winter), then only a small set of data have such a high values (because there are 53 weeks in a year). As a result, the boxplot will consider those as outlier.\n",
    "    \n",
    "Instead, detecting outlier based on the distribution of the differences between two consecutive observations is a better idea. We wil make a function to remove outlier by first compute the distribution of diffences between two consecutive values. Then those differences that have $ \\left | Z-score  \\right |$ larger than 9 will be considered as outlier. In simple words, the increase between consecutive values will be removed (put as NaN) if they are too large in their distribution."
   ]
  },
  {
   "cell_type": "code",
   "execution_count": 19,
   "metadata": {},
   "outputs": [],
   "source": [
    "# Remove outlier based on quantile\n",
    "#def remove_outlier_quantile(dataframe, quantile = 0.95, timecolumn = 'Time'):\n",
    "#    data = dataframe.copy(deep = True)\n",
    "#    for col in data:\n",
    "#        if col not in [timecolumn]:\n",
    "#            column_nona = data.loc[~data[col].isna(), col]\n",
    "#            delta = column_nona - column_nona.shift(1)\n",
    "#            q = delta.quantile(quantile)\n",
    "#            idx = delta[delta > q].index\n",
    "#            data.loc[idx, col] = np.NaN\n",
    "#    return data"
   ]
  },
  {
   "cell_type": "code",
   "execution_count": 20,
   "metadata": {},
   "outputs": [],
   "source": [
    "# Remove outlier based on zscore\n",
    "def remove_outlier(dataframe, zscore = 1.96, timecolumn = 'Time'):\n",
    "    from scipy import stats\n",
    "    data = dataframe.copy(deep = True)\n",
    "    for col in data:\n",
    "        if col not in [timecolumn]:\n",
    "            column_nona = data.loc[~data[col].isna(), col]\n",
    "            delta = column_nona - column_nona.shift(1)\n",
    "            delta.iloc[0] = np.nanmean(delta) # To include first value of the time series\n",
    "            abs_zscore = np.abs(stats.zscore(delta))\n",
    "            idx = delta[abs_zscore > zscore].index\n",
    "            data.loc[idx, col] = np.NaN\n",
    "    return data"
   ]
  },
  {
   "cell_type": "markdown",
   "metadata": {},
   "source": [
    "#### Remove outliers for df and check the plot on new data"
   ]
  },
  {
   "cell_type": "code",
   "execution_count": 44,
   "metadata": {
    "scrolled": false
   },
   "outputs": [
    {
     "data": {
      "image/png": "[encoded data removed]",
      "text/plain": [
       "<Figure size 1080x2160 with 18 Axes>"
      ]
     },
     "metadata": {
      "needs_background": "light"
     },
     "output_type": "display_data"
    }
   ],
   "source": [
    "newdf = remove_outlier(df, zscore = 2)\n",
    "fig, axe = plt.subplots(newdf.shape[1],2, figsize = (15, 30), gridspec_kw={\"height_ratios\":np.append(0.005, np.repeat(1,df.shape[1]-1))})\n",
    "\n",
    "axe[0,0].axis('off')\n",
    "axe[0,0].set_title('Removed ouliers data', fontweight='bold', fontsize = 20)\n",
    "axe[0,1].axis('off')\n",
    "axe[0,1].set_title('Raw data', fontweight='bold', fontsize = 20)\n",
    "\n",
    "for i in range(1, newdf.shape[1]):\n",
    "    axe[i, 0].scatter(newdf.Time, newdf.iloc[:,i])\n",
    "    axe[i, 0].set_title(newdf.columns[i])\n",
    "    axe[i, 0].xaxis.set_major_locator(matplotlib.dates.MonthLocator(bymonth=12, bymonthday=1, interval=1, tz=None))\n",
    "    axe[i, 1].scatter(df.Time, df.iloc[:,i])\n",
    "    axe[i, 1].set_title(df.columns[i])\n",
    "    axe[i, 1].xaxis.set_major_locator(matplotlib.dates.MonthLocator(bymonth=12, bymonthday=1, interval=1, tz=None))    \n",
    "fig.subplots_adjust(left=None, bottom=0.1, right=None, top=None, wspace=None, hspace=0.5)\n",
    "#fig.suptitle('Times-series for each parameter', fontsize=14, fontweight='bold')"
   ]
  },
  {
   "cell_type": "markdown",
   "metadata": {},
   "source": [
    "#### Remove outlier for condense sink data"
   ]
  },
  {
   "cell_type": "code",
   "execution_count": null,
   "metadata": {},
   "outputs": [],
   "source": [
    "condense = remove_outlier(condense)"
   ]
  },
  {
   "cell_type": "markdown",
   "metadata": {},
   "source": [
    "#### Let's drop Type Apple, Type Bump, Type Rain and Type Featureless due to no data"
   ]
  },
  {
   "cell_type": "code",
   "execution_count": null,
   "metadata": {},
   "outputs": [],
   "source": [
    "event.drop(['Type Apple', 'Type Rain', 'Type Bump', 'Type Featureless'], axis = 1, inplace = True)"
   ]
  },
  {
   "cell_type": "markdown",
   "metadata": {},
   "source": [
    "#### New variabable that combines all events and then remove all those event it replaces"
   ]
  },
  {
   "cell_type": "code",
   "execution_count": null,
   "metadata": {},
   "outputs": [],
   "source": [
    "event['Event'] = event['Type Ia'] + event['Type Ib'] + event['Type II']\n",
    "event.drop(['Type Ia', 'Type Ib', 'Type II'], axis = 1, inplace = True)"
   ]
  },
  {
   "cell_type": "markdown",
   "metadata": {},
   "source": [
    "#### Calculate hourly data"
   ]
  },
  {
   "cell_type": "code",
   "execution_count": null,
   "metadata": {},
   "outputs": [],
   "source": [
    "condense_hourly = condense.groupby([condense[\"Time\"].dt.date,condense[\"Time\"].dt.hour]).mean()\n",
    "df_hourly = df.groupby([df[\"Time\"].dt.date,df[\"Time\"].dt.hour]).mean()"
   ]
  },
  {
   "cell_type": "markdown",
   "metadata": {},
   "source": [
    "# Analysis"
   ]
  },
  {
   "cell_type": "markdown",
   "metadata": {},
   "source": [
    "## Preliminary analysis"
   ]
  },
  {
   "cell_type": "code",
   "execution_count": null,
   "metadata": {
    "scrolled": false
   },
   "outputs": [],
   "source": [
    "fig, ax = plt.subplots(event.shape[1]-1, figsize = (15, 15))\n",
    "fig.subplots_adjust(left=None, bottom=None, right=None, top=None, wspace=None, hspace=0.25)\n",
    "for i, value in enumerate([col for col in event.columns if col != 'Time']):\n",
    "    ax[i].scatter(event[event[value] ==1][\"Time\"], event[event[value] ==1][value], c = \"r\")\n",
    "    ax[i].scatter(event[event[value] ==0][\"Time\"], event[event[value] ==0][value], c = \"green\")\n",
    "    ax[i].set_title(value)"
   ]
  },
  {
   "cell_type": "code",
   "execution_count": null,
   "metadata": {
    "scrolled": false
   },
   "outputs": [],
   "source": [
    "plt.figure(figsize = (15,10))\n",
    "plt.plot(\"Time\", \"Condensation_sink\",\"o\", data = condense)"
   ]
  },
  {
   "cell_type": "markdown",
   "metadata": {},
   "source": [
    "## Correlation"
   ]
  },
  {
   "cell_type": "markdown",
   "metadata": {},
   "source": [
    "## Plot"
   ]
  },
  {
   "cell_type": "markdown",
   "metadata": {},
   "source": [
    "### Correlation plot\n",
    "Choose color color bar first"
   ]
  },
  {
   "cell_type": "code",
   "execution_count": null,
   "metadata": {},
   "outputs": [],
   "source": [
    "cmap = sns.choose_diverging_palette(as_cmap = True)"
   ]
  },
  {
   "cell_type": "markdown",
   "metadata": {},
   "source": [
    "Change the color bar above then run the code below again to apply new color bar (Don't run the code above again)"
   ]
  },
  {
   "cell_type": "code",
   "execution_count": null,
   "metadata": {},
   "outputs": [],
   "source": [
    "fig, ax = plt.subplots(figsize = (17,12))\n",
    "sns.heatmap(condense_hourly.join(df_hourly).corr(), cmap = cmap, center=0.00, ax = ax, annot = True)\n",
    "ax.set_ylim(df.shape[1],0)\n",
    "ax.set_title('Hourly correlation', weight = \"bold\", fontsize=24)"
   ]
  },
  {
   "cell_type": "code",
   "execution_count": null,
   "metadata": {},
   "outputs": [],
   "source": [
    "condense_daily = condense.groupby([condense[\"Time\"].dt.date]).mean()\n",
    "df_daily = df.groupby([df[\"Time\"].dt.date]).mean()"
   ]
  },
  {
   "cell_type": "code",
   "execution_count": null,
   "metadata": {},
   "outputs": [],
   "source": [
    "temp = event[[\"Event\", \"Nonevent\", \"Time\"]].set_index('Time').join(condense_daily).join(df_daily)"
   ]
  },
  {
   "cell_type": "code",
   "execution_count": null,
   "metadata": {
    "scrolled": false
   },
   "outputs": [],
   "source": [
    "fig, axe = plt.subplots(8, figsize = (15, 30))\n",
    "for i in range(8):\n",
    "    axe[i].plot(temp[temp.Event == 1].iloc[:,i+2], label = 'Event day')\n",
    "    axe[i].plot(temp[temp.Nonevent == 1].iloc[:,i+2], c = 'red', label = 'Nonevent day')\n",
    "    axe[i].set_title(temp.columns[i+2])\n",
    "    axe[i].xaxis.set_major_locator(matplotlib.dates.MonthLocator(bymonth=12, bymonthday=1, interval=1, tz=None))\n",
    "    axe[i].legend()\n",
    "#for i in range(8):\n",
    "#    axe[i,1].plot(temp[temp.Nonevent == 1].iloc[:,i+2], c = 'red')\n",
    "#    axe[i,1].set_title('Nonevent day ' + temp.columns[i+2])\n",
    "#    axe[i,1].xaxis.set_major_locator(matplotlib.dates.MonthLocator(bymonth=12, bymonthday=1, interval=1, tz=None))\n",
    "    \n",
    "fig.subplots_adjust(left=None, bottom=None, right=None, top=None, wspace=None, hspace=0.5)"
   ]
  },
  {
   "cell_type": "code",
   "execution_count": null,
   "metadata": {},
   "outputs": [],
   "source": [
    "fig, ax = plt.subplots(figsize = (17,12))\n",
    "sns.heatmap(temp[temp.Event == 1].iloc[:,2:].corr(), cmap = cmap, center=0.00, ax = ax, annot = True)\n",
    "ax.set_ylim(df.shape[1] +1,0)\n",
    "ax.set_title('Daily correlation on Event day', weight = \"bold\", fontsize=24)"
   ]
  },
  {
   "cell_type": "code",
   "execution_count": null,
   "metadata": {},
   "outputs": [],
   "source": [
    "fig, ax = plt.subplots(figsize = (17,12))\n",
    "sns.heatmap(temp[temp.Nonevent == 1].iloc[:,2:].corr(), cmap = cmap, center=0.00, ax = ax, annot = True)\n",
    "ax.set_ylim(df.shape[1] +1,0)\n",
    "ax.set_title('Daily correlation on Non-Event day', weight = \"bold\", fontsize=24)"
   ]
  },
  {
   "cell_type": "markdown",
   "metadata": {},
   "source": [
    "$[H_2SO_4]_{proxy} = k \\cdot \\frac{[SO_2][UVB]}{CS}$"
   ]
  },
  {
   "cell_type": "code",
   "execution_count": null,
   "metadata": {},
   "outputs": [],
   "source": [
    "temp['proxy'] = temp['SO2168'] * temp['UV_B'] * 9.9e-7 / temp['Condensation_sink'] * 2.62e-6 / 64 * 6.023e23 / 1e6"
   ]
  },
  {
   "cell_type": "code",
   "execution_count": null,
   "metadata": {},
   "outputs": [],
   "source": [
    "temp['proxy']"
   ]
  },
  {
   "cell_type": "code",
   "execution_count": null,
   "metadata": {},
   "outputs": [],
   "source": [
    "fig, axe = plt.subplots(figsize = (15, 15))\n",
    "axe.plot(temp[temp.Event == 1]['proxy'], 'o', label = 'Event day')\n",
    "axe.plot(temp[temp.Nonevent == 1]['proxy'], 'o', c = 'red', label = 'Nonevent day')\n",
    "  #axe.set_title(temp.columns[i+2])\n",
    "axe.xaxis.set_major_locator(matplotlib.dates.MonthLocator(bymonth=12, bymonthday=1, interval=1, tz=None))\n",
    "axe.set_yscale('log')\n",
    "axe.legend()"
   ]
  },
  {
   "cell_type": "code",
   "execution_count": null,
   "metadata": {},
   "outputs": [],
   "source": [
    "temp2 = temp[temp.Event == 1].reset_index(level = 0).groupby(temp[temp.Event == 1].reset_index(level = 0)['Time'].dt.month).mean()\n",
    "temp3 = temp[temp.Nonevent == 1].reset_index(level = 0).groupby(temp[temp.Nonevent == 1].reset_index(level = 0)['Time'].dt.month).mean()"
   ]
  },
  {
   "cell_type": "code",
   "execution_count": null,
   "metadata": {},
   "outputs": [],
   "source": [
    "plt.figure(figsize = (15, 15))\n",
    "plt.plot(temp2.proxy, 'o', temp3.proxy, 'o')"
   ]
  },
  {
   "cell_type": "markdown",
   "metadata": {},
   "source": [
    "## Monthly box plot for each variable based on event"
   ]
  },
  {
   "cell_type": "code",
   "execution_count": null,
   "metadata": {},
   "outputs": [],
   "source": [
    "df.boxplot(column = [column for column in df.columns if column != \"Time\"])"
   ]
  },
  {
   "cell_type": "code",
   "execution_count": null,
   "metadata": {},
   "outputs": [],
   "source": [
    "df['Month'] = df['Time'].dt.month"
   ]
  },
  {
   "cell_type": "code",
   "execution_count": null,
   "metadata": {},
   "outputs": [],
   "source": [
    "df.boxplot(by = 'Month', figsize = (15, 15))"
   ]
  },
  {
   "cell_type": "code",
   "execution_count": null,
   "metadata": {},
   "outputs": [],
   "source": [
    "plt.figure(figsize = (15, 7))\n",
    "sns.boxplot(df.Time.dt.month, df.NOx168)\n",
    "plt.gca().set_ylim(0,10)"
   ]
  },
  {
   "cell_type": "code",
   "execution_count": null,
   "metadata": {},
   "outputs": [],
   "source": [
    "tips = sns.load_dataset(\"tips\")"
   ]
  },
  {
   "cell_type": "code",
   "execution_count": null,
   "metadata": {},
   "outputs": [],
   "source": [
    "tips"
   ]
  },
  {
   "cell_type": "code",
   "execution_count": null,
   "metadata": {},
   "outputs": [],
   "source": [
    " "
   ]
  }
 ],
 "metadata": {
  "kernelspec": {
   "display_name": "Python 3",
   "language": "python",
   "name": "python3"
  },
  "language_info": {
   "codemirror_mode": {
    "name": "ipython",
    "version": 3
   },
   "file_extension": ".py",
   "mimetype": "text/x-python",
   "name": "python",
   "nbconvert_exporter": "python",
   "pygments_lexer": "ipython3",
   "version": "3.7.3"
  }
 },
 "nbformat": 4,
 "nbformat_minor": 2
}
