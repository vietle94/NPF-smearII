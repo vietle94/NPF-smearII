{
 "cells": [
  {
   "cell_type": "code",
   "execution_count": 14,
   "metadata": {},
   "outputs": [],
   "source": [
    "import pandas as pd\n",
    "import numpy as np\n",
    "import matplotlib.pyplot as plt\n",
    "import requests\n",
    "from io import StringIO"
   ]
  },
  {
   "cell_type": "markdown",
   "metadata": {},
   "source": [
    "# Get the data"
   ]
  },
  {
   "cell_type": "markdown",
   "metadata": {},
   "source": [
    "## UVA"
   ]
  },
  {
   "cell_type": "code",
   "execution_count": 16,
   "metadata": {},
   "outputs": [],
   "source": [
    "UVA_request = requests.get('https://avaa.tdata.fi/smear-services/smeardata.jsp?variables=UV_A&table=HYY_META&from=2008-01-01 00:00:00.971&to=2009-12-31 23:59:59.859&quality=CHECKED&averaging=NONE&type=NONE')"
   ]
  },
  {
   "cell_type": "markdown",
   "metadata": {},
   "source": [
    "## Air pressure"
   ]
  },
  {
   "cell_type": "code",
   "execution_count": 19,
   "metadata": {},
   "outputs": [],
   "source": [
    "p_request = requests.get('https://avaa.tdata.fi/smear-services/smeardata.jsp?variables=Pamb0&table=HYY_META&from=2008-01-01 00:00:00.131&to=2009-12-31 23:59:59.586&quality=CHECKED&averaging=NONE&type=NONE')"
   ]
  },
  {
   "cell_type": "markdown",
   "metadata": {},
   "source": [
    "## Air temperature 67.2m"
   ]
  },
  {
   "cell_type": "code",
   "execution_count": 23,
   "metadata": {},
   "outputs": [],
   "source": [
    "T_67m_request = requests.get('https://avaa.tdata.fi/smear-services/smeardata.jsp?variables=T672&table=HYY_META&from=2008-01-01 00:00:00.131&to=2009-12-31 23:59:59.586&quality=CHECKED&averaging=NONE&type=NONE')"
   ]
  },
  {
   "cell_type": "markdown",
   "metadata": {},
   "source": [
    "## Air temperature 8.4m"
   ]
  },
  {
   "cell_type": "code",
   "execution_count": 28,
   "metadata": {},
   "outputs": [],
   "source": [
    "T_8m_request = requests.get('https://avaa.tdata.fi/smear-services/smeardata.jsp?variables=T84&table=HYY_META&from=2008-01-01 00:00:00.131&to=2009-12-31 23:59:59.586&quality=CHECKED&averaging=NONE&type=NONE')"
   ]
  },
  {
   "cell_type": "markdown",
   "metadata": {},
   "source": [
    "## Wind speed 67.2m\n"
   ]
  },
  {
   "cell_type": "code",
   "execution_count": 30,
   "metadata": {},
   "outputs": [],
   "source": [
    "w_67m_request = requests.get('https://avaa.tdata.fi/smear-services/smeardata.jsp?variables=WSU672&table=HYY_META&from=2008-01-01 00:00:00.131&to=2009-12-31 23:59:59.586&quality=CHECKED&averaging=NONE&type=NONE')"
   ]
  },
  {
   "cell_type": "markdown",
   "metadata": {},
   "source": [
    "## Wind speed 8.4m"
   ]
  },
  {
   "cell_type": "code",
   "execution_count": 33,
   "metadata": {},
   "outputs": [],
   "source": [
    "w_8m_request = requests.get('https://avaa.tdata.fi/smear-services/smeardata.jsp?variables=WSU84&table=HYY_META&from=2008-01-01 00:00:00.131&to=2009-12-31 23:59:59.586&quality=CHECKED&averaging=NONE&type=NONE')"
   ]
  },
  {
   "cell_type": "markdown",
   "metadata": {},
   "source": [
    "## Humidity 67.2m"
   ]
  },
  {
   "cell_type": "code",
   "execution_count": 36,
   "metadata": {},
   "outputs": [],
   "source": [
    "RH_67m_request = requests.get('https://avaa.tdata.fi/smear-services/smeardata.jsp?variables=RHIRGA672&table=HYY_META&from=2008-01-01 00:00:00.131&to=2009-12-31 23:59:59.586&quality=CHECKED&averaging=NONE&type=NONE')"
   ]
  },
  {
   "cell_type": "markdown",
   "metadata": {},
   "source": [
    "## Humidity 8.4m"
   ]
  },
  {
   "cell_type": "code",
   "execution_count": 38,
   "metadata": {},
   "outputs": [],
   "source": [
    "RH_8m_request = requests.get('https://avaa.tdata.fi/smear-services/smeardata.jsp?variables=RHIRGA84&table=HYY_META&from=2008-01-01 00:00:00.131&to=2009-12-31 23:59:59.586&quality=CHECKED&averaging=NONE&type=NONE')"
   ]
  },
  {
   "cell_type": "markdown",
   "metadata": {},
   "source": [
    "## O3 67.2m"
   ]
  },
  {
   "cell_type": "code",
   "execution_count": 49,
   "metadata": {},
   "outputs": [],
   "source": [
    "O3_67m_request = requests.get('https://avaa.tdata.fi/smear-services/smeardata.jsp?variables=O3672&table=HYY_META&from=2008-01-01 00:00:00.131&to=2009-12-31 23:59:59.586&quality=CHECKED&averaging=NONE&type=NONE')"
   ]
  },
  {
   "cell_type": "markdown",
   "metadata": {},
   "source": [
    "## O3 8.4m"
   ]
  },
  {
   "cell_type": "code",
   "execution_count": 51,
   "metadata": {},
   "outputs": [],
   "source": [
    "O3_8m_request = requests.get('https://avaa.tdata.fi/smear-services/smeardata.jsp?variables=O384&table=HYY_META&from=2008-01-01 00:00:00.131&to=2009-12-31 23:59:59.586&quality=CHECKED&averaging=NONE&type=NONE')"
   ]
  },
  {
   "cell_type": "markdown",
   "metadata": {},
   "source": [
    "## NOx 67.2m"
   ]
  },
  {
   "cell_type": "code",
   "execution_count": 53,
   "metadata": {},
   "outputs": [],
   "source": [
    "NOx_67m_request = requests.get('https://avaa.tdata.fi/smear-services/smeardata.jsp?variables=NOx672&table=HYY_META&from=2008-01-01 00:00:00.131&to=2009-12-31 23:59:59.586&quality=CHECKED&averaging=NONE&type=NONE')"
   ]
  },
  {
   "cell_type": "markdown",
   "metadata": {},
   "source": [
    "## NOx 8.4m"
   ]
  },
  {
   "cell_type": "code",
   "execution_count": 55,
   "metadata": {},
   "outputs": [],
   "source": [
    "NOx_8m_request = requests.get('https://avaa.tdata.fi/smear-services/smeardata.jsp?variables=NOx84&table=HYY_META&from=2008-01-01 00:00:00.131&to=2009-12-31 23:59:59.586&quality=CHECKED&averaging=NONE&type=NONE')"
   ]
  },
  {
   "cell_type": "markdown",
   "metadata": {},
   "source": [
    "## SO2 67.2m\n"
   ]
  },
  {
   "cell_type": "code",
   "execution_count": 59,
   "metadata": {},
   "outputs": [],
   "source": [
    "SO2_67m_request = requests.get('https://avaa.tdata.fi/smear-services/smeardata.jsp?variables=SO2672&table=HYY_META&from=2008-01-01 00:00:00.131&to=2009-12-31 23:59:59.586&quality=CHECKED&averaging=NONE&type=NONE')"
   ]
  },
  {
   "cell_type": "markdown",
   "metadata": {},
   "source": [
    "## SO2 8.4m"
   ]
  },
  {
   "cell_type": "code",
   "execution_count": 61,
   "metadata": {},
   "outputs": [],
   "source": [
    "SO2_8m_request = requests.get('https://avaa.tdata.fi/smear-services/smeardata.jsp?variables=SO284&table=HYY_META&from=2008-01-01 00:00:00.131&to=2009-12-31 23:59:59.586&quality=CHECKED&averaging=NONE&type=NONE')"
   ]
  },
  {
   "cell_type": "markdown",
   "metadata": {},
   "source": [
    "# Read data"
   ]
  },
  {
   "cell_type": "code",
   "execution_count": 65,
   "metadata": {},
   "outputs": [],
   "source": [
    "def read_data(x):\n",
    "    dateparse = lambda x: pd.datetime.strptime(x, '%Y %m %d %H %M %S')\n",
    "    data = pd.read_csv(StringIO(x.text), parse_dates = {'Time': ['Year', 'Month', 'Day', 'Hour', 'Minute', 'Second']}, date_parser = dateparse)\n",
    "    return data"
   ]
  },
  {
   "cell_type": "code",
   "execution_count": 74,
   "metadata": {},
   "outputs": [],
   "source": [
    "parameters_request = [UVA_request, p_request, T_67m_request, T_8m_request, w_67m_request, w_8m_request, RH_67m_request, RH_8m_request]\n",
    "[UVA, p, T_67m, T_8m, w_67m, w_8m, RH_67m, RH_8m] = [read_data(x) for x in parameters_request]\n",
    "\n",
    "gas_request = [O3_67m_request, O3_8m_request, NOx_67m_request, NOx_8m_request, SO2_67m_request, SO2_8m_request]\n",
    "[O3_67m, O3_8m, NOx_67m, NOx_8m, SO2_67m, SO2_8m] = [read_data(x) for x in gas_request]"
   ]
  },
  {
   "cell_type": "markdown",
   "metadata": {},
   "source": [
    "## Join all data to one dataframe"
   ]
  },
  {
   "cell_type": "code",
   "execution_count": 170,
   "metadata": {},
   "outputs": [],
   "source": [
    "df = pd.concat([\n",
    "    df.set_index('Time') for df in [UVA, p, T_67m, T_8m, w_67m, w_8m, RH_67m, RH_8m, O3_67m, O3_8m, NOx_67m, NOx_8m, SO2_67m, SO2_8m]], axis=1, join='inner'\n",
    ").reset_index()"
   ]
  },
  {
   "cell_type": "code",
   "execution_count": 172,
   "metadata": {},
   "outputs": [],
   "source": [
    "Time = df.Time.values\n",
    "df = df.drop('Time', axis = 1)\n",
    "df.rename(columns = lambda x: x[9:], inplace = True) # Rename columns name"
   ]
  },
  {
   "cell_type": "markdown",
   "metadata": {},
   "source": [
    "# Check data"
   ]
  },
  {
   "cell_type": "code",
   "execution_count": 173,
   "metadata": {
    "scrolled": true
   },
   "outputs": [
    {
     "data": {
      "text/html": [
       "<div>\n",
       "<style scoped>\n",
       "    .dataframe tbody tr th:only-of-type {\n",
       "        vertical-align: middle;\n",
       "    }\n",
       "\n",
       "    .dataframe tbody tr th {\n",
       "        vertical-align: top;\n",
       "    }\n",
       "\n",
       "    .dataframe thead th {\n",
       "        text-align: right;\n",
       "    }\n",
       "</style>\n",
       "<table border=\"1\" class=\"dataframe\">\n",
       "  <thead>\n",
       "    <tr style=\"text-align: right;\">\n",
       "      <th></th>\n",
       "      <th>UV_A</th>\n",
       "      <th>Pamb0</th>\n",
       "      <th>T672</th>\n",
       "      <th>T84</th>\n",
       "      <th>WSU672</th>\n",
       "      <th>WSU84</th>\n",
       "      <th>RHIRGA672</th>\n",
       "      <th>RHIRGA84</th>\n",
       "      <th>O3672</th>\n",
       "      <th>O384</th>\n",
       "      <th>NOx672</th>\n",
       "      <th>NOx84</th>\n",
       "      <th>SO2672</th>\n",
       "      <th>SO284</th>\n",
       "    </tr>\n",
       "  </thead>\n",
       "  <tbody>\n",
       "    <tr>\n",
       "      <td>0</td>\n",
       "      <td>-0.001</td>\n",
       "      <td>1010.51</td>\n",
       "      <td>-2.22</td>\n",
       "      <td>-1.77</td>\n",
       "      <td>7.55</td>\n",
       "      <td>0.55</td>\n",
       "      <td>85.53</td>\n",
       "      <td>NaN</td>\n",
       "      <td>27.73</td>\n",
       "      <td>NaN</td>\n",
       "      <td>0.53</td>\n",
       "      <td>NaN</td>\n",
       "      <td>0.04</td>\n",
       "      <td>NaN</td>\n",
       "    </tr>\n",
       "    <tr>\n",
       "      <td>1</td>\n",
       "      <td>0.001</td>\n",
       "      <td>1010.55</td>\n",
       "      <td>-2.25</td>\n",
       "      <td>-1.77</td>\n",
       "      <td>6.67</td>\n",
       "      <td>1.11</td>\n",
       "      <td>NaN</td>\n",
       "      <td>NaN</td>\n",
       "      <td>NaN</td>\n",
       "      <td>NaN</td>\n",
       "      <td>NaN</td>\n",
       "      <td>NaN</td>\n",
       "      <td>NaN</td>\n",
       "      <td>NaN</td>\n",
       "    </tr>\n",
       "    <tr>\n",
       "      <td>2</td>\n",
       "      <td>-0.001</td>\n",
       "      <td>1010.52</td>\n",
       "      <td>-2.26</td>\n",
       "      <td>-1.76</td>\n",
       "      <td>5.85</td>\n",
       "      <td>0.65</td>\n",
       "      <td>NaN</td>\n",
       "      <td>NaN</td>\n",
       "      <td>NaN</td>\n",
       "      <td>NaN</td>\n",
       "      <td>NaN</td>\n",
       "      <td>NaN</td>\n",
       "      <td>NaN</td>\n",
       "      <td>NaN</td>\n",
       "    </tr>\n",
       "    <tr>\n",
       "      <td>3</td>\n",
       "      <td>0.003</td>\n",
       "      <td>1010.59</td>\n",
       "      <td>-2.31</td>\n",
       "      <td>-1.79</td>\n",
       "      <td>7.90</td>\n",
       "      <td>0.69</td>\n",
       "      <td>NaN</td>\n",
       "      <td>NaN</td>\n",
       "      <td>NaN</td>\n",
       "      <td>NaN</td>\n",
       "      <td>NaN</td>\n",
       "      <td>NaN</td>\n",
       "      <td>NaN</td>\n",
       "      <td>NaN</td>\n",
       "    </tr>\n",
       "    <tr>\n",
       "      <td>4</td>\n",
       "      <td>0.003</td>\n",
       "      <td>1010.62</td>\n",
       "      <td>-2.26</td>\n",
       "      <td>-1.79</td>\n",
       "      <td>8.13</td>\n",
       "      <td>0.90</td>\n",
       "      <td>NaN</td>\n",
       "      <td>85.63</td>\n",
       "      <td>NaN</td>\n",
       "      <td>26.63</td>\n",
       "      <td>NaN</td>\n",
       "      <td>0.35</td>\n",
       "      <td>NaN</td>\n",
       "      <td>0.04</td>\n",
       "    </tr>\n",
       "  </tbody>\n",
       "</table>\n",
       "</div>"
      ],
      "text/plain": [
       "    UV_A    Pamb0  T672   T84  WSU672  WSU84  RHIRGA672  RHIRGA84  O3672  \\\n",
       "0 -0.001  1010.51 -2.22 -1.77    7.55   0.55      85.53       NaN  27.73   \n",
       "1  0.001  1010.55 -2.25 -1.77    6.67   1.11        NaN       NaN    NaN   \n",
       "2 -0.001  1010.52 -2.26 -1.76    5.85   0.65        NaN       NaN    NaN   \n",
       "3  0.003  1010.59 -2.31 -1.79    7.90   0.69        NaN       NaN    NaN   \n",
       "4  0.003  1010.62 -2.26 -1.79    8.13   0.90        NaN     85.63    NaN   \n",
       "\n",
       "    O384  NOx672  NOx84  SO2672  SO284  \n",
       "0    NaN    0.53    NaN    0.04    NaN  \n",
       "1    NaN     NaN    NaN     NaN    NaN  \n",
       "2    NaN     NaN    NaN     NaN    NaN  \n",
       "3    NaN     NaN    NaN     NaN    NaN  \n",
       "4  26.63     NaN   0.35     NaN   0.04  "
      ]
     },
     "execution_count": 173,
     "metadata": {},
     "output_type": "execute_result"
    }
   ],
   "source": [
    "df.head()"
   ]
  },
  {
   "cell_type": "markdown",
   "metadata": {},
   "source": [
    "#### Overall statistics"
   ]
  },
  {
   "cell_type": "code",
   "execution_count": 157,
   "metadata": {
    "scrolled": false
   },
   "outputs": [
    {
     "data": {
      "text/html": [
       "<div>\n",
       "<style scoped>\n",
       "    .dataframe tbody tr th:only-of-type {\n",
       "        vertical-align: middle;\n",
       "    }\n",
       "\n",
       "    .dataframe tbody tr th {\n",
       "        vertical-align: top;\n",
       "    }\n",
       "\n",
       "    .dataframe thead th {\n",
       "        text-align: right;\n",
       "    }\n",
       "</style>\n",
       "<table border=\"1\" class=\"dataframe\">\n",
       "  <thead>\n",
       "    <tr style=\"text-align: right;\">\n",
       "      <th></th>\n",
       "      <th>UV_A</th>\n",
       "      <th>Pamb0</th>\n",
       "      <th>T672</th>\n",
       "      <th>T84</th>\n",
       "      <th>WSU672</th>\n",
       "      <th>WSU84</th>\n",
       "      <th>RHIRGA672</th>\n",
       "      <th>RHIRGA84</th>\n",
       "      <th>O3672</th>\n",
       "      <th>O384</th>\n",
       "      <th>NOx672</th>\n",
       "      <th>NOx84</th>\n",
       "      <th>SO2672</th>\n",
       "      <th>SO284</th>\n",
       "    </tr>\n",
       "  </thead>\n",
       "  <tbody>\n",
       "    <tr>\n",
       "      <td>count</td>\n",
       "      <td>1.045706e+06</td>\n",
       "      <td>1.039080e+06</td>\n",
       "      <td>1.039135e+06</td>\n",
       "      <td>1.039150e+06</td>\n",
       "      <td>1.029425e+06</td>\n",
       "      <td>1.034713e+06</td>\n",
       "      <td>164681.000000</td>\n",
       "      <td>164736.000000</td>\n",
       "      <td>171233.000000</td>\n",
       "      <td>171192.000000</td>\n",
       "      <td>171339.000000</td>\n",
       "      <td>171335.000000</td>\n",
       "      <td>171698.000000</td>\n",
       "      <td>171657.000000</td>\n",
       "    </tr>\n",
       "    <tr>\n",
       "      <td>mean</td>\n",
       "      <td>5.631473e+00</td>\n",
       "      <td>9.899441e+02</td>\n",
       "      <td>4.265524e+00</td>\n",
       "      <td>4.423914e+00</td>\n",
       "      <td>5.451874e+00</td>\n",
       "      <td>7.194648e-01</td>\n",
       "      <td>77.195165</td>\n",
       "      <td>77.731753</td>\n",
       "      <td>30.989080</td>\n",
       "      <td>28.560974</td>\n",
       "      <td>1.191027</td>\n",
       "      <td>1.228047</td>\n",
       "      <td>0.215247</td>\n",
       "      <td>0.165107</td>\n",
       "    </tr>\n",
       "    <tr>\n",
       "      <td>std</td>\n",
       "      <td>9.763745e+00</td>\n",
       "      <td>1.170071e+01</td>\n",
       "      <td>8.365430e+00</td>\n",
       "      <td>8.484302e+00</td>\n",
       "      <td>2.233658e+00</td>\n",
       "      <td>5.267878e-01</td>\n",
       "      <td>19.792336</td>\n",
       "      <td>18.788175</td>\n",
       "      <td>10.630118</td>\n",
       "      <td>10.838618</td>\n",
       "      <td>1.546441</td>\n",
       "      <td>1.610159</td>\n",
       "      <td>0.428647</td>\n",
       "      <td>0.335751</td>\n",
       "    </tr>\n",
       "    <tr>\n",
       "      <td>min</td>\n",
       "      <td>-5.600000e-02</td>\n",
       "      <td>9.445500e+02</td>\n",
       "      <td>-1.921000e+01</td>\n",
       "      <td>-2.115000e+01</td>\n",
       "      <td>5.000000e-02</td>\n",
       "      <td>5.000000e-02</td>\n",
       "      <td>15.440000</td>\n",
       "      <td>16.240000</td>\n",
       "      <td>0.080000</td>\n",
       "      <td>0.210000</td>\n",
       "      <td>-0.220000</td>\n",
       "      <td>-0.220000</td>\n",
       "      <td>-0.220000</td>\n",
       "      <td>-0.220000</td>\n",
       "    </tr>\n",
       "    <tr>\n",
       "      <td>25%</td>\n",
       "      <td>-1.000000e-03</td>\n",
       "      <td>9.821800e+02</td>\n",
       "      <td>-1.950000e+00</td>\n",
       "      <td>-1.560000e+00</td>\n",
       "      <td>3.900000e+00</td>\n",
       "      <td>3.500000e-01</td>\n",
       "      <td>63.220000</td>\n",
       "      <td>66.400000</td>\n",
       "      <td>23.840000</td>\n",
       "      <td>20.740000</td>\n",
       "      <td>0.280000</td>\n",
       "      <td>0.290000</td>\n",
       "      <td>0.030000</td>\n",
       "      <td>0.000000</td>\n",
       "    </tr>\n",
       "    <tr>\n",
       "      <td>50%</td>\n",
       "      <td>3.760000e-01</td>\n",
       "      <td>9.903000e+02</td>\n",
       "      <td>3.440000e+00</td>\n",
       "      <td>3.560000e+00</td>\n",
       "      <td>5.370000e+00</td>\n",
       "      <td>5.700000e-01</td>\n",
       "      <td>84.280000</td>\n",
       "      <td>85.850000</td>\n",
       "      <td>30.380000</td>\n",
       "      <td>28.060000</td>\n",
       "      <td>0.640000</td>\n",
       "      <td>0.660000</td>\n",
       "      <td>0.100000</td>\n",
       "      <td>0.080000</td>\n",
       "    </tr>\n",
       "    <tr>\n",
       "      <td>75%</td>\n",
       "      <td>7.101000e+00</td>\n",
       "      <td>9.982500e+02</td>\n",
       "      <td>1.139000e+01</td>\n",
       "      <td>1.132000e+01</td>\n",
       "      <td>6.820000e+00</td>\n",
       "      <td>9.400000e-01</td>\n",
       "      <td>94.040000</td>\n",
       "      <td>92.290000</td>\n",
       "      <td>37.600000</td>\n",
       "      <td>35.530000</td>\n",
       "      <td>1.540000</td>\n",
       "      <td>1.600000</td>\n",
       "      <td>0.240000</td>\n",
       "      <td>0.190000</td>\n",
       "    </tr>\n",
       "    <tr>\n",
       "      <td>max</td>\n",
       "      <td>5.921200e+01</td>\n",
       "      <td>1.030350e+03</td>\n",
       "      <td>2.656000e+01</td>\n",
       "      <td>2.840000e+01</td>\n",
       "      <td>1.955000e+01</td>\n",
       "      <td>7.700000e+00</td>\n",
       "      <td>108.780000</td>\n",
       "      <td>109.240000</td>\n",
       "      <td>83.370000</td>\n",
       "      <td>81.840000</td>\n",
       "      <td>65.680000</td>\n",
       "      <td>88.840000</td>\n",
       "      <td>31.210000</td>\n",
       "      <td>31.950000</td>\n",
       "    </tr>\n",
       "  </tbody>\n",
       "</table>\n",
       "</div>"
      ],
      "text/plain": [
       "               UV_A         Pamb0          T672           T84        WSU672  \\\n",
       "count  1.045706e+06  1.039080e+06  1.039135e+06  1.039150e+06  1.029425e+06   \n",
       "mean   5.631473e+00  9.899441e+02  4.265524e+00  4.423914e+00  5.451874e+00   \n",
       "std    9.763745e+00  1.170071e+01  8.365430e+00  8.484302e+00  2.233658e+00   \n",
       "min   -5.600000e-02  9.445500e+02 -1.921000e+01 -2.115000e+01  5.000000e-02   \n",
       "25%   -1.000000e-03  9.821800e+02 -1.950000e+00 -1.560000e+00  3.900000e+00   \n",
       "50%    3.760000e-01  9.903000e+02  3.440000e+00  3.560000e+00  5.370000e+00   \n",
       "75%    7.101000e+00  9.982500e+02  1.139000e+01  1.132000e+01  6.820000e+00   \n",
       "max    5.921200e+01  1.030350e+03  2.656000e+01  2.840000e+01  1.955000e+01   \n",
       "\n",
       "              WSU84      RHIRGA672       RHIRGA84          O3672  \\\n",
       "count  1.034713e+06  164681.000000  164736.000000  171233.000000   \n",
       "mean   7.194648e-01      77.195165      77.731753      30.989080   \n",
       "std    5.267878e-01      19.792336      18.788175      10.630118   \n",
       "min    5.000000e-02      15.440000      16.240000       0.080000   \n",
       "25%    3.500000e-01      63.220000      66.400000      23.840000   \n",
       "50%    5.700000e-01      84.280000      85.850000      30.380000   \n",
       "75%    9.400000e-01      94.040000      92.290000      37.600000   \n",
       "max    7.700000e+00     108.780000     109.240000      83.370000   \n",
       "\n",
       "                O384         NOx672          NOx84         SO2672  \\\n",
       "count  171192.000000  171339.000000  171335.000000  171698.000000   \n",
       "mean       28.560974       1.191027       1.228047       0.215247   \n",
       "std        10.838618       1.546441       1.610159       0.428647   \n",
       "min         0.210000      -0.220000      -0.220000      -0.220000   \n",
       "25%        20.740000       0.280000       0.290000       0.030000   \n",
       "50%        28.060000       0.640000       0.660000       0.100000   \n",
       "75%        35.530000       1.540000       1.600000       0.240000   \n",
       "max        81.840000      65.680000      88.840000      31.210000   \n",
       "\n",
       "               SO284  \n",
       "count  171657.000000  \n",
       "mean        0.165107  \n",
       "std         0.335751  \n",
       "min        -0.220000  \n",
       "25%         0.000000  \n",
       "50%         0.080000  \n",
       "75%         0.190000  \n",
       "max        31.950000  "
      ]
     },
     "execution_count": 157,
     "metadata": {},
     "output_type": "execute_result"
    }
   ],
   "source": [
    "df.describe()"
   ]
  },
  {
   "cell_type": "markdown",
   "metadata": {},
   "source": [
    "#### Check NA values"
   ]
  },
  {
   "cell_type": "code",
   "execution_count": 158,
   "metadata": {},
   "outputs": [
    {
     "data": {
      "text/plain": [
       "UV_A           6934\n",
       "Pamb0         13560\n",
       "T672          13505\n",
       "T84           13490\n",
       "WSU672        23215\n",
       "WSU84         17927\n",
       "RHIRGA672    887959\n",
       "RHIRGA84     887904\n",
       "O3672        881407\n",
       "O384         881448\n",
       "NOx672       881301\n",
       "NOx84        881305\n",
       "SO2672       880942\n",
       "SO284        880983\n",
       "dtype: int64"
      ]
     },
     "execution_count": 158,
     "metadata": {},
     "output_type": "execute_result"
    }
   ],
   "source": [
    "df.isna().sum()"
   ]
  },
  {
   "cell_type": "markdown",
   "metadata": {},
   "source": [
    "## Plot"
   ]
  },
  {
   "cell_type": "code",
   "execution_count": 179,
   "metadata": {},
   "outputs": [
    {
     "data": {
      "image/png": "[encoded data removed]",
      "text/plain": [
       "<Figure size 1080x2160 with 14 Axes>"
      ]
     },
     "metadata": {
      "needs_background": "light"
     },
     "output_type": "display_data"
    }
   ],
   "source": [
    "fig, axe = plt.subplots(7,2, figsize = (15, 30))\n",
    "axe = axe.flatten()\n",
    "for i in range(df.shape[1]):\n",
    "    axe[i].scatter(Time, df.iloc[:,i])\n",
    "    axe[i].set_title(df.columns[i])\n",
    "    \n",
    "fig.subplots_adjust(left=None, bottom=None, right=None, top=None, wspace=None, hspace=0.5)"
   ]
  },
  {
   "cell_type": "code",
   "execution_count": null,
   "metadata": {},
   "outputs": [],
   "source": []
  }
 ],
 "metadata": {
  "kernelspec": {
   "display_name": "Python 3",
   "language": "python",
   "name": "python3"
  },
  "language_info": {
   "codemirror_mode": {
    "name": "ipython",
    "version": 3
   },
   "file_extension": ".py",
   "mimetype": "text/x-python",
   "name": "python",
   "nbconvert_exporter": "python",
   "pygments_lexer": "ipython3",
   "version": "3.7.3"
  }
 },
 "nbformat": 4,
 "nbformat_minor": 2
}
